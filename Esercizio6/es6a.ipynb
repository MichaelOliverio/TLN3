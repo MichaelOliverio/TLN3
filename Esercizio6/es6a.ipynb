{
 "cells": [
  {
   "attachments": {},
   "cell_type": "markdown",
   "metadata": {},
   "source": [
    "# Laboratorio 6.a\n",
    "\n",
    "Ranking su basicness dei synset di WordNet. Si richiede di creare un mapping tra i synset di WordNet ed un basicness score (ad es. [0, 1]), utilizzando dati, risorse, features e approcci che credete opportuni alla risoluzione del task. "
   ]
  },
  {
   "attachments": {},
   "cell_type": "markdown",
   "metadata": {},
   "source": [
    "ALTRA IDEA: Dato un synset, guardare se esiste un iponimo/iperonimo/contrario ecc nel dataset. es. trovo cane e tra gli iponimi c'è shitzu, e shitzu c'è nel dataset ed è etichettato come advanced, allora posso dare un incremento allo score di cane"
   ]
  },
  {
   "cell_type": "code",
   "execution_count": 224,
   "metadata": {},
   "outputs": [],
   "source": [
    "import json\n",
    "import pandas as pd\n",
    "from nltk.corpus import wordnet as wn\n",
    "from scipy.stats import pearsonr\n",
    "from scipy.stats import spearmanr"
   ]
  },
  {
   "attachments": {},
   "cell_type": "markdown",
   "metadata": {},
   "source": [
    "## Apertura del file"
   ]
  },
  {
   "cell_type": "code",
   "execution_count": 225,
   "metadata": {},
   "outputs": [],
   "source": [
    "def open_json(file_name):\n",
    "    with open(file_name, 'r') as file:\n",
    "        data = json.load(file)\n",
    "\n",
    "    df = pd.DataFrame(data['dataset'], columns=['dataset'])\n",
    "\n",
    "    df[['synset','words','gloss']] = df['dataset'].str.split(':',expand=True)\n",
    "    df = df.drop(columns=['dataset'])\n",
    "\n",
    "    #remove from synset the substrings \"Synset('\" and \"')\"\n",
    "    df['synset'] = df['synset'].str.replace('Synset\\(\\'', '', regex=True)\n",
    "    df['synset'] = df['synset'].str.replace('\\'\\)', '', regex=True)\n",
    "    df['words'] = df['words'].str.replace(' \\| Definition', '', regex=True)\n",
    "\n",
    "    df['isHard'] = data['isHard']\n",
    "    df['answers'] = data['answers']\n",
    "    df['timeDiffs'] = data['timeDiffs']\n",
    "\n",
    "    df['basicness1'] = None\n",
    "    df['basicness2'] = None\n",
    "\n",
    "    return df"
   ]
  },
  {
   "attachments": {},
   "cell_type": "markdown",
   "metadata": {},
   "source": [
    "## Metodi di supporto\n",
    "\n",
    "Metodi personali per estrazione di informazioni da WordNet"
   ]
  },
  {
   "cell_type": "code",
   "execution_count": 226,
   "metadata": {},
   "outputs": [],
   "source": [
    "# calcolo la profondità massima del grafo\n",
    "MAX_DEPTH = max(max(len(hyp_path) for hyp_path in ss.hypernym_paths()) for ss in wn.all_synsets())"
   ]
  },
  {
   "cell_type": "code",
   "execution_count": 235,
   "metadata": {},
   "outputs": [],
   "source": [
    "'''\n",
    "dato un synset, restituisce la profondità del synset nella geerarchia di WordNet\n",
    "'''\n",
    "def get_hyponyms(synset):\n",
    "    hyponyms = set()\n",
    "    for hyponym in synset.hyponyms():\n",
    "        hyponyms |= get_hyponyms(hyponym)\n",
    "    return hyponyms | set(synset.hyponyms())\n",
    "\n",
    "\n",
    "def get_hyponyms_paths(synset, max_depth, current_depth=0):\n",
    "    if current_depth >= max_depth:\n",
    "        return []\n",
    "\n",
    "    hyponym_paths = []\n",
    "    for hyponym in synset.hyponyms():\n",
    "        paths_from_hyponym = get_hyponyms_paths(hyponym, max_depth, current_depth + 1)\n",
    "        if paths_from_hyponym:\n",
    "            for path in paths_from_hyponym:\n",
    "                hyponym_paths.append([synset] + path)\n",
    "        else:\n",
    "            hyponym_paths.append([synset, hyponym])\n",
    "\n",
    "    return hyponym_paths\n",
    "\n",
    "\n",
    "def get_max_hyponym_paths(synset):\n",
    "    paths = get_hyponyms_paths(synset, MAX_DEPTH)\n",
    "    if paths == []:\n",
    "        return 0\n",
    "\n",
    "    max_length = max(len(path) for path in paths)\n",
    "\n",
    "    return max_length"
   ]
  },
  {
   "cell_type": "code",
   "execution_count": 228,
   "metadata": {},
   "outputs": [],
   "source": [
    "'''\n",
    "Calcola il percorso più breve dalla radice al senso. Alcune volte synset.hypernyms() non restituiva alcun iperonimo, \n",
    "quindi, guardando dall'implementazione del metodo min_depth di nltk è stato inserito negli iperonimi il risulato \n",
    "di synset.instance_hypernyms()\n",
    "'''\n",
    "def get_min_depth(synset):\n",
    "    if not synset:\n",
    "        return 0\n",
    "    \n",
    "    hyperonyms = synset.hypernyms() + synset.instance_hypernyms()\n",
    "    if not hyperonyms:\n",
    "        return 0\n",
    "    else:\n",
    "        depths = []\n",
    "        for hyp in hyperonyms:\n",
    "            dep = 1 + get_min_depth(hyp)\n",
    "            depths.append(dep)\n",
    "        return min(depths)"
   ]
  },
  {
   "attachments": {},
   "cell_type": "markdown",
   "metadata": {},
   "source": [
    "## Creazione del Basicness scoring"
   ]
  },
  {
   "cell_type": "code",
   "execution_count": 229,
   "metadata": {},
   "outputs": [],
   "source": [
    "def compute_basicness_score1(synset):\n",
    "    min_depth = get_min_depth(synset)\n",
    "\n",
    "    basicness = 1 - (min_depth / MAX_DEPTH)\n",
    "\n",
    "    #print(synset, ': ', min_depth, ' /',MAX_DEPTH ,':', basicness)\n",
    "\n",
    "    return basicness\n",
    "\n",
    "'''\n",
    "Tengo in considerazione che i synset possono provenire da diversi sottografi collegati a root\n",
    "'''\n",
    "def compute_basicness_score2(synset):\n",
    "    min_depth = get_min_depth(synset)\n",
    "    max_hyponym_paths = get_max_hyponym_paths(synset)\n",
    "\n",
    "    if min_depth == 0:\n",
    "        basicness = 1\n",
    "    else:\n",
    "        basicness = 1 - (min_depth / (min_depth + max_hyponym_paths))\n",
    "\n",
    "    #print(synset, ': ', min_depth, ' / (', min_depth, ' + ', max_hyponym_paths, '):', basicness)\n",
    "\n",
    "    return basicness"
   ]
  },
  {
   "attachments": {},
   "cell_type": "markdown",
   "metadata": {},
   "source": [
    "## MAIN"
   ]
  },
  {
   "attachments": {},
   "cell_type": "markdown",
   "metadata": {},
   "source": [
    "### Apro il file"
   ]
  },
  {
   "cell_type": "code",
   "execution_count": 230,
   "metadata": {},
   "outputs": [
    {
     "data": {
      "text/html": [
       "<div>\n",
       "<style scoped>\n",
       "    .dataframe tbody tr th:only-of-type {\n",
       "        vertical-align: middle;\n",
       "    }\n",
       "\n",
       "    .dataframe tbody tr th {\n",
       "        vertical-align: top;\n",
       "    }\n",
       "\n",
       "    .dataframe thead th {\n",
       "        text-align: right;\n",
       "    }\n",
       "</style>\n",
       "<table border=\"1\" class=\"dataframe\">\n",
       "  <thead>\n",
       "    <tr style=\"text-align: right;\">\n",
       "      <th></th>\n",
       "      <th>synset</th>\n",
       "      <th>words</th>\n",
       "      <th>gloss</th>\n",
       "      <th>isHard</th>\n",
       "      <th>answers</th>\n",
       "      <th>timeDiffs</th>\n",
       "      <th>basicness1</th>\n",
       "      <th>basicness2</th>\n",
       "    </tr>\n",
       "  </thead>\n",
       "  <tbody>\n",
       "    <tr>\n",
       "      <th>0</th>\n",
       "      <td>war.n.01</td>\n",
       "      <td>war, warfare</td>\n",
       "      <td>the waging of armed conflict against an enemy</td>\n",
       "      <td>False</td>\n",
       "      <td>basic</td>\n",
       "      <td>3.341</td>\n",
       "      <td>None</td>\n",
       "      <td>None</td>\n",
       "    </tr>\n",
       "    <tr>\n",
       "      <th>1</th>\n",
       "      <td>fiefdom.n.01</td>\n",
       "      <td>fiefdom</td>\n",
       "      <td>the domain controlled by a feudal lord</td>\n",
       "      <td>False</td>\n",
       "      <td>advanced</td>\n",
       "      <td>1.333</td>\n",
       "      <td>None</td>\n",
       "      <td>None</td>\n",
       "    </tr>\n",
       "    <tr>\n",
       "      <th>2</th>\n",
       "      <td>bed.n.03</td>\n",
       "      <td>bed, bottom</td>\n",
       "      <td>a depression forming the ground under a body ...</td>\n",
       "      <td>False</td>\n",
       "      <td>basic</td>\n",
       "      <td>0.968</td>\n",
       "      <td>None</td>\n",
       "      <td>None</td>\n",
       "    </tr>\n",
       "    <tr>\n",
       "      <th>3</th>\n",
       "      <td>return_on_invested_capital.n.01</td>\n",
       "      <td>return on invested capital, return on investme...</td>\n",
       "      <td>(corporate finance) the amount, expressed as ...</td>\n",
       "      <td>False</td>\n",
       "      <td>advanced</td>\n",
       "      <td>2.315</td>\n",
       "      <td>None</td>\n",
       "      <td>None</td>\n",
       "    </tr>\n",
       "    <tr>\n",
       "      <th>4</th>\n",
       "      <td>texture.n.02</td>\n",
       "      <td>texture</td>\n",
       "      <td>the essential quality of something</td>\n",
       "      <td>True</td>\n",
       "      <td>basic</td>\n",
       "      <td>7.346</td>\n",
       "      <td>None</td>\n",
       "      <td>None</td>\n",
       "    </tr>\n",
       "  </tbody>\n",
       "</table>\n",
       "</div>"
      ],
      "text/plain": [
       "                            synset  \\\n",
       "0                         war.n.01   \n",
       "1                     fiefdom.n.01   \n",
       "2                         bed.n.03   \n",
       "3  return_on_invested_capital.n.01   \n",
       "4                     texture.n.02   \n",
       "\n",
       "                                               words  \\\n",
       "0                                       war, warfare   \n",
       "1                                            fiefdom   \n",
       "2                                        bed, bottom   \n",
       "3  return on invested capital, return on investme...   \n",
       "4                                            texture   \n",
       "\n",
       "                                               gloss  isHard   answers  \\\n",
       "0      the waging of armed conflict against an enemy   False     basic   \n",
       "1             the domain controlled by a feudal lord   False  advanced   \n",
       "2   a depression forming the ground under a body ...   False     basic   \n",
       "3   (corporate finance) the amount, expressed as ...   False  advanced   \n",
       "4                 the essential quality of something    True     basic   \n",
       "\n",
       "   timeDiffs basicness1 basicness2  \n",
       "0      3.341       None       None  \n",
       "1      1.333       None       None  \n",
       "2      0.968       None       None  \n",
       "3      2.315       None       None  \n",
       "4      7.346       None       None  "
      ]
     },
     "execution_count": 230,
     "metadata": {},
     "output_type": "execute_result"
    }
   ],
   "source": [
    "file_name = \"basic_advanced/1.json\"\n",
    "\n",
    "df = open_json(file_name)\n",
    "df.head()"
   ]
  },
  {
   "attachments": {},
   "cell_type": "markdown",
   "metadata": {},
   "source": [
    "### Calcolo le basicness con le due metodologie implementate per ogni synset"
   ]
  },
  {
   "cell_type": "code",
   "execution_count": 231,
   "metadata": {},
   "outputs": [],
   "source": [
    "for index, row in df.iterrows():\n",
    "    synset = wn.synset(row['synset'])\n",
    "    df.at[index, 'basicness1'] = compute_basicness_score1(synset)\n",
    "    df.at[index, 'basicness2'] = compute_basicness_score2(synset)\n",
    "\n",
    "df_basic = df[df['answers'] == 'basic']\n",
    "df_advanced = df[df['answers'] == 'advanced']"
   ]
  },
  {
   "attachments": {},
   "cell_type": "markdown",
   "metadata": {},
   "source": [
    "### Calcolo degli indici di correlazione\n",
    "\n",
    "Il coefficiente di correlazione di Spearman e il coefficiente di correlazione di Pearson sono due misure statistiche utilizzate per valutare la relazione tra due variabili. Tuttavia, la principale differenza tra i due è il tipo di dati che possono essere trattati e la natura delle relazioni che misurano.\n",
    "\n",
    "Il coefficiente di correlazione di Pearson, noto anche come correlazione lineare, valuta la relazione lineare tra due variabili continue. Misura la forza e la direzione della relazione lineare tra le variabili e può assumere valori compresi tra -1 e 1. Un valore di 1 indica una correlazione positiva perfetta, -1 indica una correlazione negativa perfetta e 0 indica l'assenza di correlazione lineare.\n",
    "\n",
    "Il coefficiente di correlazione di Spearman, d'altra parte, valuta la relazione monotona tra due variabili, che può essere di qualsiasi tipo di scala. Non richiede che le variabili seguano una relazione lineare, ma solo che la relazione sia monotona. Questo coefficiente misura la forza e la direzione della relazione monotona e può assumere valori compresi tra -1 e 1. Una correlazione di Spearman di 1 indica una correlazione monotona positiva perfetta, -1 indica una correlazione monotona negativa perfetta e 0 indica l'assenza di correlazione monotona.\n",
    "\n",
    "In sintesi, il coefficiente di correlazione di Pearson valuta la relazione lineare tra due variabili continue, mentre il coefficiente di correlazione di Spearman valuta la relazione monotona tra due variabili, che può essere di qualsiasi tipo di scala. Entrambi i coefficienti sono utili strumenti statistici per analizzare le relazioni tra variabili, ma la scelta tra i due dipenderà dalle caratteristiche delle variabili e dalla natura della relazione che si desidera esaminare."
   ]
  },
  {
   "attachments": {},
   "cell_type": "markdown",
   "metadata": {},
   "source": [
    "#### Calcolo l'indice di correlazione di Pearson"
   ]
  },
  {
   "cell_type": "code",
   "execution_count": 232,
   "metadata": {},
   "outputs": [
    {
     "name": "stdout",
     "output_type": "stream",
     "text": [
      "Pearsons correlation basicness1: -0.011\n",
      "Pearsons correlation basicness2: 0.037\n"
     ]
    }
   ],
   "source": [
    "corr, _ = pearsonr(df_basic['basicness1'], df_basic['timeDiffs'])\n",
    "print('Pearsons correlation basicness1: %.3f' % corr)\n",
    "\n",
    "corr, _ = pearsonr(df_basic['basicness2'], df_basic['timeDiffs'])\n",
    "print('Pearsons correlation basicness2: %.3f' % corr)"
   ]
  },
  {
   "attachments": {},
   "cell_type": "markdown",
   "metadata": {},
   "source": [
    "#### Calcolo l'indice di correlazione di Spaerman"
   ]
  },
  {
   "cell_type": "code",
   "execution_count": 233,
   "metadata": {},
   "outputs": [
    {
     "name": "stdout",
     "output_type": "stream",
     "text": [
      "Spearmans correlation basicness1: -0.122\n",
      "Pearsons correlation basicness2: -0.167\n"
     ]
    }
   ],
   "source": [
    "corr, _ = spearmanr(df_basic['basicness1'], df_basic['timeDiffs'])\n",
    "print('Spearmans correlation basicness1: %.3f' % corr)\n",
    "\n",
    "corr, _ = spearmanr(df_basic['basicness2'], df_basic['timeDiffs'])\n",
    "print('Pearsons correlation basicness2: %.3f' % corr)"
   ]
  },
  {
   "attachments": {},
   "cell_type": "markdown",
   "metadata": {},
   "source": [
    "### Mostro i valori medi per le parole basic e advance per le due tipologie di basicness calcolate"
   ]
  },
  {
   "cell_type": "code",
   "execution_count": 234,
   "metadata": {},
   "outputs": [
    {
     "name": "stdout",
     "output_type": "stream",
     "text": [
      "basicness1 mean basic:  0.6801038062283739\n",
      "basicness1 mean advanced:  0.619767441860465\n",
      "\n",
      "\n",
      "basicness2 mean basic:  0.29368658542533976\n",
      "basicness2 mean advanced:  0.06955358594893479\n"
     ]
    }
   ],
   "source": [
    "# valori medi di basicness1 e basicness2 per df_basic e df_advanced\n",
    "print('basicness1 mean basic: ', df_basic['basicness1'].mean())\n",
    "print('basicness1 mean advanced: ', df_advanced['basicness1'].mean())\n",
    "\n",
    "print('\\n')\n",
    "\n",
    "print('basicness2 mean basic: ', df_basic['basicness2'].mean())\n",
    "print('basicness2 mean advanced: ', df_advanced['basicness2'].mean())"
   ]
  }
 ],
 "metadata": {
  "kernelspec": {
   "display_name": "Python 3",
   "language": "python",
   "name": "python3"
  },
  "language_info": {
   "codemirror_mode": {
    "name": "ipython",
    "version": 3
   },
   "file_extension": ".py",
   "mimetype": "text/x-python",
   "name": "python",
   "nbconvert_exporter": "python",
   "pygments_lexer": "ipython3",
   "version": "3.11.0"
  },
  "orig_nbformat": 4
 },
 "nbformat": 4,
 "nbformat_minor": 2
}
