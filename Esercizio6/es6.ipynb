{
 "cells": [
  {
   "attachments": {},
   "cell_type": "markdown",
   "metadata": {},
   "source": [
    "# Laboratorio 6\n",
    "\n",
    "Si richiede di sviluppare uno tra i seguenti tre moduli: \n",
    "\n",
    "Lab-6a: ranking su basicness dei synset di WordNet. Si richiede di creare un mapping tra i synset di WordNet ed un basicness score (ad es. [0, 1]), utilizzando dati, risorse, features e approcci che credete opportuni alla risoluzione del task. \n",
    "\n",
    "Lab-6b: basicness in downstream tasks. Si richiedere l'uso dei concetti e del dataset fornito su basicness (e/o altri dati e risorse) all'interno di in un task esistente (ad es. WSD, MT, text simplification, text segmentation, summarization, ecc.) motivandone e dimostrandone l'utilità (anche solamente in casi/domini specifici).\n",
    "\n",
    "Lab-6c: classificazione basic/advanced. Si richiedere l'uso (o meno) del dataset su basicness per fare classificazione automatica (binaria, basic/advanced) su nuovi termini e/o synset presi in esame."
   ]
  },
  {
   "cell_type": "code",
   "execution_count": null,
   "metadata": {},
   "outputs": [],
   "source": []
  }
 ],
 "metadata": {
  "language_info": {
   "name": "python"
  },
  "orig_nbformat": 4
 },
 "nbformat": 4,
 "nbformat_minor": 2
}
