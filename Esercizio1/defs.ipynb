{
 "cells": [
  {
   "attachments": {},
   "cell_type": "markdown",
   "metadata": {},
   "source": [
    "# Esercitazione 1\n",
    "\n",
    "Misurazione dell’overlap lessicale tra una serie di definizioni per concetti generici/specifici e concreti/astratti. Partendo dai dati sulle definizioni (presente nella cartella \"dati\" su Moodle), si richiede di calcolare la similarità 2-a-2 tra le definizioni (ad es. usando la cardinalità dell'intersezione dei lemmi normalizzata sulla lunghezza minima delle definizioni), aggregando (ed effettuando la media degli score di similarità) sulle due dimensioni (concretezza / specificità). "
   ]
  },
  {
   "cell_type": "code",
   "execution_count": 17,
   "metadata": {},
   "outputs": [
    {
     "data": {
      "text/html": [
       "<div>\n",
       "<style scoped>\n",
       "    .dataframe tbody tr th:only-of-type {\n",
       "        vertical-align: middle;\n",
       "    }\n",
       "\n",
       "    .dataframe tbody tr th {\n",
       "        vertical-align: top;\n",
       "    }\n",
       "\n",
       "    .dataframe thead th {\n",
       "        text-align: right;\n",
       "    }\n",
       "</style>\n",
       "<table border=\"1\" class=\"dataframe\">\n",
       "  <thead>\n",
       "    <tr style=\"text-align: right;\">\n",
       "      <th></th>\n",
       "      <th>door</th>\n",
       "      <th>ladybug</th>\n",
       "      <th>pain</th>\n",
       "      <th>blurriness</th>\n",
       "    </tr>\n",
       "  </thead>\n",
       "  <tbody>\n",
       "    <tr>\n",
       "      <th>0</th>\n",
       "      <td>A construction used to divide two rooms, tempo...</td>\n",
       "      <td>small flying insect, typically red with black ...</td>\n",
       "      <td>A feeling of physical or mental distress</td>\n",
       "      <td>sight out of focus</td>\n",
       "    </tr>\n",
       "    <tr>\n",
       "      <th>1</th>\n",
       "      <td>It's an opening, it can be opened or closed.</td>\n",
       "      <td>It is an insect, it has wings, red with black ...</td>\n",
       "      <td>It is a feeling, physical or emotional. It is ...</td>\n",
       "      <td>It is the absence of definite borders, shapele...</td>\n",
       "    </tr>\n",
       "    <tr>\n",
       "      <th>2</th>\n",
       "      <td>An object that divide two room, closing an hol...</td>\n",
       "      <td>An insect that can fly. It has red or orange c...</td>\n",
       "      <td>A felling that couscious beings can experince ...</td>\n",
       "      <td>A sensation felt when you can't see clearly th...</td>\n",
       "    </tr>\n",
       "    <tr>\n",
       "      <th>3</th>\n",
       "      <td>Usable for access from one area to another</td>\n",
       "      <td>Small insect with a red back</td>\n",
       "      <td>Concept that describes a suffering living being</td>\n",
       "      <td>Lack of sharpness</td>\n",
       "    </tr>\n",
       "    <tr>\n",
       "      <th>4</th>\n",
       "      <td>Structure that delimits an area and allows acc...</td>\n",
       "      <td>Small round flying insect</td>\n",
       "      <td>Feeling of physical discomfort</td>\n",
       "      <td>Characteristic of lack of clarity or precision</td>\n",
       "    </tr>\n",
       "  </tbody>\n",
       "</table>\n",
       "</div>"
      ],
      "text/plain": [
       "                                                door  \\\n",
       "0  A construction used to divide two rooms, tempo...   \n",
       "1       It's an opening, it can be opened or closed.   \n",
       "2  An object that divide two room, closing an hol...   \n",
       "3         Usable for access from one area to another   \n",
       "4  Structure that delimits an area and allows acc...   \n",
       "\n",
       "                                             ladybug  \\\n",
       "0  small flying insect, typically red with black ...   \n",
       "1  It is an insect, it has wings, red with black ...   \n",
       "2  An insect that can fly. It has red or orange c...   \n",
       "3                       Small insect with a red back   \n",
       "4                          Small round flying insect   \n",
       "\n",
       "                                                pain  \\\n",
       "0           A feeling of physical or mental distress   \n",
       "1  It is a feeling, physical or emotional. It is ...   \n",
       "2  A felling that couscious beings can experince ...   \n",
       "3    Concept that describes a suffering living being   \n",
       "4                     Feeling of physical discomfort   \n",
       "\n",
       "                                          blurriness  \n",
       "0                                 sight out of focus  \n",
       "1  It is the absence of definite borders, shapele...  \n",
       "2  A sensation felt when you can't see clearly th...  \n",
       "3                                  Lack of sharpness  \n",
       "4     Characteristic of lack of clarity or precision  "
      ]
     },
     "execution_count": 17,
     "metadata": {},
     "output_type": "execute_result"
    }
   ],
   "source": [
    "import pandas as pd\n",
    "import nltk\n",
    "import string\n",
    "from nltk.stem import PorterStemmer\n",
    "import itertools\n",
    "from nltk.corpus import stopwords\n",
    "\n",
    "corpus = pd.read_csv('definizioni.tsv', sep='\\t', engine='python')\n",
    "corpus.head(5)"
   ]
  },
  {
   "cell_type": "code",
   "execution_count": 18,
   "metadata": {},
   "outputs": [],
   "source": [
    "stop_words = set(stopwords.words('english'))\n",
    "stemmer = PorterStemmer()\n",
    "\n",
    "def normalize(sentence):\n",
    "    tokens = nltk.word_tokenize(sentence)\n",
    "    tokens = [token for token in tokens if token not in string.punctuation] #tolgo la punteggiatura\n",
    "    tokens = [token.lower() for token in tokens] # sostituisco le maiuscole con le minuscole\n",
    "    tokens = [token for token in tokens if token not in stop_words] # rimuovo le stop words \n",
    "    tokens = [stemmer.stem(token) for token in tokens] # stemmizzo\n",
    "    \n",
    "    return tokens"
   ]
  },
  {
   "cell_type": "code",
   "execution_count": 19,
   "metadata": {},
   "outputs": [],
   "source": [
    "#foreach coloumn for each row in corpus apply normalize\n",
    "corpus['door'] = corpus['door'].apply(normalize)\n",
    "corpus['ladybug'] = corpus['ladybug'].apply(normalize)\n",
    "corpus['pain'] = corpus['pain'].apply(normalize)\n",
    "corpus['blurriness'] = corpus['blurriness'].apply(normalize)"
   ]
  },
  {
   "attachments": {},
   "cell_type": "markdown",
   "metadata": {},
   "source": [
    "## Similarità 2-a-2"
   ]
  },
  {
   "cell_type": "code",
   "execution_count": 20,
   "metadata": {},
   "outputs": [],
   "source": [
    "def compare(sentence1, sentence2):\n",
    "    sentence1 = set(sentence1)\n",
    "    sentence2 = set(sentence2)\n",
    "\n",
    "    return len(sentence1.intersection(sentence2)) / min(len(sentence1), len(sentence2))"
   ]
  },
  {
   "cell_type": "code",
   "execution_count": 21,
   "metadata": {},
   "outputs": [
    {
     "name": "stdout",
     "output_type": "stream",
     "text": [
      "door :  0.2260206396413296\n",
      "ladybug :  0.5842484782139964\n",
      "pain :  0.2423645320197044\n",
      "blurriness :  0.07986849676504847\n"
     ]
    }
   ],
   "source": [
    "for coloumn in corpus:\n",
    "    sum = 0\n",
    "    count = 0\n",
    "    for sentence1, sentence2 in itertools.combinations(corpus[coloumn], 2):\n",
    "        sum += compare(sentence1, sentence2)\n",
    "        count += 1\n",
    "\n",
    "    print(coloumn, ': ', sum/count)"
   ]
  },
  {
   "attachments": {},
   "cell_type": "markdown",
   "metadata": {},
   "source": [
    "## Aggregazione"
   ]
  },
  {
   "cell_type": "code",
   "execution_count": 22,
   "metadata": {},
   "outputs": [
    {
     "name": "stderr",
     "output_type": "stream",
     "text": [
      "C:\\Users\\OliverioM\\AppData\\Local\\Temp\\ipykernel_11140\\2196199081.py:3: FutureWarning: The series.append method is deprecated and will be removed from pandas in a future version. Use pandas.concat instead.\n",
      "  new_corpus['door_ladybug'] = corpus['door'].append(corpus['ladybug'])\n",
      "C:\\Users\\OliverioM\\AppData\\Local\\Temp\\ipykernel_11140\\2196199081.py:4: FutureWarning: The series.append method is deprecated and will be removed from pandas in a future version. Use pandas.concat instead.\n",
      "  new_corpus['pain_blurriness'] = corpus['pain'].append(corpus['blurriness'])\n"
     ]
    }
   ],
   "source": [
    "new_corpus = pd.DataFrame()\n",
    "\n",
    "new_corpus['door_ladybug'] = corpus['door'].append(corpus['ladybug'])\n",
    "new_corpus['pain_blurriness'] = corpus['pain'].append(corpus['blurriness'])\n",
    "\n",
    "new_corpus = new_corpus.reset_index(drop=True)"
   ]
  },
  {
   "cell_type": "code",
   "execution_count": 23,
   "metadata": {},
   "outputs": [
    {
     "name": "stdout",
     "output_type": "stream",
     "text": [
      "door_ladybug :  0.20338345897667945\n",
      "pain_blurriness :  0.08946832984968557\n"
     ]
    }
   ],
   "source": [
    "for coloumn in new_corpus:\n",
    "    sum = 0\n",
    "    count = 0\n",
    "    for sentence1, sentence2 in itertools.combinations(new_corpus[coloumn], 2):\n",
    "        sum += compare(sentence1, sentence2)\n",
    "        count += 1\n",
    "\n",
    "    print(coloumn, ': ', sum/count)"
   ]
  }
 ],
 "metadata": {
  "kernelspec": {
   "display_name": "Python 3",
   "language": "python",
   "name": "python3"
  },
  "language_info": {
   "codemirror_mode": {
    "name": "ipython",
    "version": 3
   },
   "file_extension": ".py",
   "mimetype": "text/x-python",
   "name": "python",
   "nbconvert_exporter": "python",
   "pygments_lexer": "ipython3",
   "version": "3.11.0"
  },
  "orig_nbformat": 4,
  "vscode": {
   "interpreter": {
    "hash": "5238573367df39f7286bb46f9ff5f08f63a01a80960060ce41e3c79b190280fa"
   }
  }
 },
 "nbformat": 4,
 "nbformat_minor": 2
}
