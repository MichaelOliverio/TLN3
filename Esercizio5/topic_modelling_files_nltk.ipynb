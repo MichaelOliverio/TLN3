{
 "cells": [
  {
   "cell_type": "code",
   "execution_count": 34,
   "metadata": {},
   "outputs": [],
   "source": [
    "import pandas as pd\n",
    "import numpy as np\n",
    "import os\n",
    "import re\n",
    "import nltk\n",
    "from nltk import MWETokenizer, WordNetLemmatizer\n",
    "from nltk.corpus import wordnet as wn, stopwords\n",
    "import gensim\n",
    "from gensim import corpora\n",
    "from nltk.corpus import reuters"
   ]
  },
  {
   "cell_type": "code",
   "execution_count": 42,
   "metadata": {},
   "outputs": [],
   "source": [
    "stop_words = set(stopwords.words('english'))\n",
    "lemmatizer = WordNetLemmatizer()\n",
    "\n",
    "def preprocessing(text):\n",
    "    text = re.sub(r'[^\\w\\s]',' ',text) # rimuovo la punteggiatura\n",
    "    text = text.lower()\n",
    "    text = nltk.pos_tag(text.split()) # prendo i pos tag delle parole (fa anche il tokenizing)\n",
    "    text = [x for x in text if x[1] in ['NN','NNS','NNP','NNPS']] # mantengo solo i noun\n",
    "    text = [x[0] for x in text] # rimuovo i pos tag\n",
    "    text = [lemmatizer.lemmatize(x) for x in text]\n",
    "    text = [x for x in text if x not in stop_words]\n",
    "    return text"
   ]
  },
  {
   "attachments": {},
   "cell_type": "markdown",
   "metadata": {},
   "source": [
    "Il corpus Reuters è un popolare corpus linguistico utilizzato per la ricerca e l'elaborazione del linguaggio naturale. È composto da una vasta collezione di articoli di notizie provenienti dalla Reuters news agency, che copre una vasta gamma di argomenti come politica, economia, finanza, scienza, tecnologia e altro ancora. Il corpus Reuters è spesso utilizzato come benchmark per valutare algoritmi di classificazione del testo, modelli di linguaggio e altre applicazioni nel campo dell'elaborazione del linguaggio naturale. È incluso nella libreria NLTK (Natural Language Toolkit) di Python, che offre un facile accesso a numerosi corpus linguistici.\n",
    "\n",
    "Contiene 90 argomenti distinti"
   ]
  },
  {
   "cell_type": "code",
   "execution_count": 43,
   "metadata": {},
   "outputs": [
    {
     "name": "stdout",
     "output_type": "stream",
     "text": [
      "Numero documenti: 3019\n",
      "Numero topic: 90\n",
      "\n",
      "\n",
      "{'trade': 117, 'grain': 149, 'crude': 189, 'nat-gas': 30, 'corn': 56, 'rice': 24, 'rubber': 12, 'sugar': 36, 'tin': 12, 'palm-oil': 10, 'veg-oil': 37, 'ship': 89, 'coffee': 28, 'lumber': 6, 'wheat': 71, 'gold': 30, 'acq': 719, 'interest': 131, 'money-fx': 179, 'copper': 18, 'ipi': 12, 'carcass': 18, 'livestock': 24, 'oilseed': 47, 'soybean': 33, 'earn': 1087, 'bop': 30, 'gas': 17, 'lead': 14, 'jobs': 21, 'zinc': 13, 'cpi': 28, 'gnp': 35, 'soy-oil': 11, 'dlr': 44, 'yen': 14, 'nickel': 1, 'groundnut': 4, 'heat': 5, 'sorghum': 10, 'sunseed': 5, 'pet-chem': 12, 'cocoa': 18, 'rapeseed': 9, 'cotton': 20, 'money-supply': 34, 'iron-steel': 14, 'l-cattle': 2, 'alum': 23, 'palladium': 1, 'platinum': 7, 'strategic-metal': 11, 'reserves': 18, 'groundnut-oil': 1, 'lin-oil': 1, 'meal-feed': 19, 'rape-oil': 3, 'sun-meal': 1, 'sun-oil': 2, 'hog': 6, 'barley': 14, 'potato': 3, 'orange': 11, 'retail': 2, 'soy-meal': 13, 'cotton-oil': 2, 'oat': 6, 'fuel': 10, 'silver': 8, 'income': 7, 'wpi': 10, 'tea': 4, 'lei': 3, 'coconut': 2, 'coconut-oil': 3, 'copra-cake': 1, 'dfl': 1, 'dmk': 4, 'naphtha': 4, 'propane': 3, 'instal-debt': 1, 'nzdlr': 2, 'housing': 4, 'nkr': 2, 'rye': 1, 'castor-oil': 1, 'jet': 1, 'palmkernel': 1, 'cpu': 1, 'rand': 1}\n"
     ]
    }
   ],
   "source": [
    "def get_topics(doc_ids):\n",
    "    topics = {}\n",
    "    for doc_id in doc_ids:\n",
    "        for topic in reuters.categories(doc_id):\n",
    "            if topic in topics:\n",
    "                topics[topic] += 1\n",
    "            else:\n",
    "                topics[topic] = 1\n",
    "    return topics\n",
    "\n",
    "def get_reuters_docs(test=True):\n",
    "    docs_ids = reuters.fileids()\n",
    "    if (test):\n",
    "        docs_ids = [doc_id for doc_id in docs_ids if 'test' in doc_id]\n",
    "\n",
    "    docs = [preprocessing(reuters.raw(doc_id)) for doc_id in docs_ids]\n",
    "    topics = get_topics(docs_ids)\n",
    "\n",
    "    return docs, topics\n",
    "\n",
    "docs, topics = get_reuters_docs()\n",
    "print('Numero documenti: ' + str(len(docs)))\n",
    "print('Numero topic: ' + str(len(topics)))\n",
    "print('\\n')\n",
    "print(topics)"
   ]
  },
  {
   "cell_type": "code",
   "execution_count": 45,
   "metadata": {},
   "outputs": [],
   "source": [
    "\"\"\"\n",
    "I valori dell'output rappresentano i punteggi di coerenza associati ai rispettivi modelli LDA. \n",
    "Questi punteggi sono stati ottenuti mediante l'utilizzo del CoherenceModel. Esso calcola la coerenza \n",
    "dei topic utilizzando diverse metriche di coerenza, come ad esempio la metrica C_V. \n",
    "Queste metriche valutano la somiglianza semantica tra le parole chiave all'interno di ciascun topic, \n",
    "considerando anche la distribuzione delle parole nel corpus di testo.\n",
    "\"\"\"\n",
    "def fine_tuning(texts, limit, start=2, step=2):\n",
    "    coherence_values = []\n",
    "    model_list = []\n",
    "    num_topic_list = []\n",
    "\n",
    "    dictionary = corpora.Dictionary(texts)\n",
    "    dictionary.filter_extremes(no_below=5, no_above=0.3, keep_n=None)  # use Dictionary to remove un-relevant tokens\n",
    "    corpus = [dictionary.doc2bow(doc) for doc in texts]\n",
    "\n",
    "\n",
    "    for num_topics in range(start, limit, step):\n",
    "        print(\"Elaborazione per k = \" + str(num_topics))\n",
    "        model = gensim.models.LdaModel(corpus, num_topics=num_topics, id2word=dictionary)\n",
    "        model_list.append(model)\n",
    "        num_topic_list.append(num_topics)\n",
    "        coherencemodel = gensim.models.CoherenceModel(model=model, texts=texts, dictionary=dictionary, coherence='c_v')\n",
    "        coherence_values.append(coherencemodel.get_coherence())\n",
    "\n",
    "    return model_list, num_topic_list, coherence_values"
   ]
  },
  {
   "cell_type": "code",
   "execution_count": 46,
   "metadata": {},
   "outputs": [
    {
     "name": "stdout",
     "output_type": "stream",
     "text": [
      "Elaborazione per k = 2\n",
      "Elaborazione per k = 5\n",
      "Elaborazione per k = 8\n",
      "Elaborazione per k = 11\n",
      "Elaborazione per k = 14\n",
      "Elaborazione per k = 17\n"
     ]
    }
   ],
   "source": [
    "model_list, num_topic_list, coherence_values = fine_tuning(docs, 20, start=2, step=3)"
   ]
  },
  {
   "cell_type": "code",
   "execution_count": 47,
   "metadata": {},
   "outputs": [
    {
     "name": "stdout",
     "output_type": "stream",
     "text": [
      "2 topic : 0.2799521577712141\n",
      "5 topic : 0.31912280688987316\n",
      "8 topic : 0.4115720817156091\n",
      "11 topic : 0.3993918954172529\n",
      "14 topic : 0.3893383772284575\n",
      "17 topic : 0.38123543247628744\n"
     ]
    }
   ],
   "source": [
    "for i in range(0, len(num_topic_list)):\n",
    "    print(str(num_topic_list[i]) + \" topic : \" + str(coherence_values[i]))"
   ]
  },
  {
   "cell_type": "code",
   "execution_count": 48,
   "metadata": {},
   "outputs": [
    {
     "name": "stdout",
     "output_type": "stream",
     "text": [
      "Modello con 2 topic: \n",
      "\n",
      "Topic 0: 0.024*\"pct\" + 0.021*\"company\" + 0.021*\"share\" + 0.012*\"market\" + 0.012*\"bank\" + 0.012*\"stock\" + 0.011*\"group\" + 0.010*\"year\" + 0.009*\"price\" + 0.008*\"trade\"\n",
      "Topic 1: 0.098*\"v\" + 0.025*\"loss\" + 0.023*\"shr\" + 0.020*\"mths\" + 0.018*\"year\" + 0.016*\"profit\" + 0.014*\"oil\" + 0.014*\"rev\" + 0.013*\"sale\" + 0.011*\"avg\"\n",
      "\n",
      "\n",
      "Modello con 5 topic: \n",
      "\n",
      "Topic 0: 0.042*\"pct\" + 0.025*\"year\" + 0.022*\"tonne\" + 0.018*\"price\" + 0.017*\"oil\" + 0.016*\"rate\" + 0.010*\"company\" + 0.009*\"market\" + 0.007*\"crop\" + 0.007*\"month\"\n",
      "Topic 1: 0.063*\"v\" + 0.036*\"share\" + 0.020*\"bank\" + 0.017*\"sale\" + 0.015*\"pct\" + 0.015*\"shr\" + 0.015*\"company\" + 0.014*\"corp\" + 0.014*\"stock\" + 0.014*\"loan\"\n",
      "Topic 2: 0.019*\"oil\" + 0.017*\"pct\" + 0.014*\"trade\" + 0.014*\"market\" + 0.014*\"year\" + 0.012*\"price\" + 0.012*\"rate\" + 0.011*\"export\" + 0.010*\"bank\" + 0.009*\"state\"\n",
      "Topic 3: 0.108*\"v\" + 0.038*\"loss\" + 0.028*\"share\" + 0.025*\"shr\" + 0.024*\"profit\" + 0.024*\"mths\" + 0.019*\"company\" + 0.019*\"rev\" + 0.015*\"stock\" + 0.015*\"sale\"\n",
      "Topic 4: 0.050*\"v\" + 0.021*\"company\" + 0.020*\"corp\" + 0.017*\"inc\" + 0.011*\"shr\" + 0.010*\"year\" + 0.009*\"gas\" + 0.009*\"pct\" + 0.008*\"share\" + 0.008*\"sale\"\n",
      "\n",
      "\n",
      "Modello con 8 topic: \n",
      "\n",
      "Topic 0: 0.145*\"v\" + 0.080*\"loss\" + 0.052*\"profit\" + 0.032*\"shr\" + 0.026*\"mths\" + 0.026*\"sale\" + 0.024*\"avg\" + 0.023*\"rev\" + 0.017*\"qtr\" + 0.014*\"note\"\n",
      "Topic 1: 0.035*\"oil\" + 0.017*\"company\" + 0.014*\"year\" + 0.014*\"market\" + 0.012*\"share\" + 0.012*\"pct\" + 0.011*\"bank\" + 0.011*\"corp\" + 0.011*\"price\" + 0.011*\"rate\"\n",
      "Topic 2: 0.026*\"pct\" + 0.018*\"trade\" + 0.017*\"year\" + 0.013*\"price\" + 0.012*\"oil\" + 0.012*\"company\" + 0.010*\"rate\" + 0.010*\"market\" + 0.008*\"agreement\" + 0.008*\"state\"\n",
      "Topic 3: 0.051*\"pct\" + 0.030*\"group\" + 0.025*\"share\" + 0.017*\"year\" + 0.015*\"company\" + 0.015*\"bank\" + 0.013*\"stake\" + 0.009*\"month\" + 0.009*\"stock\" + 0.008*\"spokesman\"\n",
      "Topic 4: 0.033*\"rate\" + 0.025*\"market\" + 0.022*\"bank\" + 0.014*\"year\" + 0.013*\"tonne\" + 0.011*\"dollar\" + 0.011*\"pct\" + 0.011*\"trade\" + 0.010*\"interest\" + 0.009*\"official\"\n",
      "Topic 5: 0.159*\"v\" + 0.037*\"shr\" + 0.037*\"share\" + 0.035*\"mths\" + 0.022*\"note\" + 0.020*\"rev\" + 0.018*\"stock\" + 0.016*\"company\" + 0.016*\"bank\" + 0.014*\"qtr\"\n",
      "Topic 6: 0.036*\"company\" + 0.034*\"share\" + 0.023*\"offer\" + 0.020*\"pct\" + 0.018*\"stock\" + 0.014*\"year\" + 0.014*\"inc\" + 0.013*\"group\" + 0.012*\"acquisition\" + 0.012*\"price\"\n",
      "Topic 7: 0.022*\"price\" + 0.020*\"year\" + 0.020*\"pct\" + 0.017*\"tonne\" + 0.013*\"export\" + 0.011*\"gulf\" + 0.009*\"crop\" + 0.009*\"official\" + 0.009*\"trade\" + 0.009*\"market\"\n",
      "\n",
      "\n",
      "Modello con 11 topic: \n",
      "\n",
      "Topic 0: 0.043*\"share\" + 0.023*\"company\" + 0.017*\"pct\" + 0.016*\"bank\" + 0.015*\"group\" + 0.013*\"sale\" + 0.012*\"stock\" + 0.012*\"year\" + 0.012*\"market\" + 0.009*\"shareholder\"\n",
      "Topic 1: 0.045*\"v\" + 0.016*\"year\" + 0.016*\"bank\" + 0.015*\"export\" + 0.014*\"import\" + 0.012*\"start\" + 0.011*\"shr\" + 0.011*\"pct\" + 0.010*\"corp\" + 0.010*\"stock\"\n",
      "Topic 2: 0.022*\"company\" + 0.017*\"minister\" + 0.014*\"meeting\" + 0.012*\"price\" + 0.010*\"oil\" + 0.010*\"system\" + 0.010*\"cable\" + 0.010*\"finance\" + 0.010*\"tax\" + 0.008*\"sale\"\n",
      "Topic 3: 0.049*\"pct\" + 0.029*\"year\" + 0.027*\"rate\" + 0.017*\"company\" + 0.017*\"market\" + 0.016*\"bank\" + 0.015*\"price\" + 0.011*\"government\" + 0.011*\"interest\" + 0.009*\"growth\"\n",
      "Topic 4: 0.033*\"tonne\" + 0.023*\"pct\" + 0.020*\"year\" + 0.018*\"offer\" + 0.017*\"month\" + 0.017*\"share\" + 0.015*\"trade\" + 0.014*\"export\" + 0.013*\"v\" + 0.011*\"corn\"\n",
      "Topic 5: 0.033*\"loss\" + 0.028*\"share\" + 0.025*\"stock\" + 0.025*\"pct\" + 0.022*\"company\" + 0.020*\"platform\" + 0.016*\"corp\" + 0.013*\"group\" + 0.012*\"v\" + 0.012*\"investment\"\n",
      "Topic 6: 0.034*\"oil\" + 0.033*\"price\" + 0.028*\"company\" + 0.016*\"barrel\" + 0.016*\"inc\" + 0.011*\"pct\" + 0.011*\"unit\" + 0.010*\"gold\" + 0.009*\"co\" + 0.008*\"arabia\"\n",
      "Topic 7: 0.025*\"market\" + 0.021*\"trade\" + 0.020*\"accord\" + 0.018*\"dollar\" + 0.017*\"rate\" + 0.017*\"louvre\" + 0.015*\"currency\" + 0.014*\"bank\" + 0.013*\"baker\" + 0.013*\"interest\"\n",
      "Topic 8: 0.047*\"v\" + 0.041*\"oil\" + 0.023*\"year\" + 0.014*\"gulf\" + 0.012*\"shr\" + 0.012*\"iran\" + 0.012*\"attack\" + 0.011*\"pct\" + 0.010*\"price\" + 0.008*\"state\"\n",
      "Topic 9: 0.059*\"v\" + 0.016*\"union\" + 0.015*\"shr\" + 0.015*\"agreement\" + 0.014*\"rate\" + 0.014*\"mths\" + 0.014*\"reserve\" + 0.012*\"system\" + 0.012*\"market\" + 0.012*\"interest\"\n",
      "Topic 10: 0.217*\"v\" + 0.051*\"loss\" + 0.048*\"mths\" + 0.047*\"shr\" + 0.043*\"profit\" + 0.034*\"rev\" + 0.026*\"qtr\" + 0.026*\"share\" + 0.025*\"avg\" + 0.025*\"note\"\n",
      "\n",
      "\n",
      "Modello con 14 topic: \n",
      "\n",
      "Topic 0: 0.278*\"v\" + 0.063*\"shr\" + 0.055*\"mths\" + 0.040*\"rev\" + 0.034*\"avg\" + 0.034*\"sale\" + 0.030*\"note\" + 0.029*\"share\" + 0.025*\"qtr\" + 0.018*\"corp\"\n",
      "Topic 1: 0.109*\"v\" + 0.028*\"shr\" + 0.023*\"mths\" + 0.023*\"gulf\" + 0.018*\"attack\" + 0.017*\"oil\" + 0.015*\"loan\" + 0.013*\"asset\" + 0.012*\"corp\" + 0.012*\"saving\"\n",
      "Topic 2: 0.052*\"share\" + 0.050*\"company\" + 0.026*\"stock\" + 0.024*\"inc\" + 0.023*\"group\" + 0.022*\"offer\" + 0.021*\"pct\" + 0.015*\"acquisition\" + 0.015*\"corp\" + 0.010*\"stake\"\n",
      "Topic 3: 0.061*\"loss\" + 0.038*\"sale\" + 0.033*\"share\" + 0.030*\"v\" + 0.022*\"right\" + 0.014*\"company\" + 0.014*\"note\" + 0.013*\"operation\" + 0.012*\"shr\" + 0.012*\"qtr\"\n",
      "Topic 4: 0.018*\"pct\" + 0.014*\"year\" + 0.014*\"tonne\" + 0.014*\"v\" + 0.012*\"crop\" + 0.010*\"system\" + 0.010*\"month\" + 0.010*\"reserve\" + 0.009*\"market\" + 0.008*\"agreement\"\n",
      "Topic 5: 0.033*\"rate\" + 0.024*\"year\" + 0.022*\"market\" + 0.018*\"pct\" + 0.017*\"tonne\" + 0.014*\"dollar\" + 0.013*\"interest\" + 0.013*\"accord\" + 0.012*\"currency\" + 0.011*\"bank\"\n",
      "Topic 6: 0.020*\"tonne\" + 0.017*\"subsidy\" + 0.016*\"price\" + 0.016*\"ec\" + 0.015*\"trade\" + 0.014*\"cocoa\" + 0.014*\"market\" + 0.014*\"export\" + 0.012*\"pct\" + 0.012*\"year\"\n",
      "Topic 7: 0.049*\"bank\" + 0.043*\"pct\" + 0.028*\"rate\" + 0.019*\"year\" + 0.017*\"market\" + 0.015*\"trade\" + 0.010*\"interest\" + 0.010*\"official\" + 0.008*\"dollar\" + 0.008*\"week\"\n",
      "Topic 8: 0.049*\"platform\" + 0.019*\"company\" + 0.019*\"oil\" + 0.017*\"group\" + 0.016*\"pct\" + 0.014*\"dollar\" + 0.013*\"year\" + 0.012*\"interest\" + 0.012*\"share\" + 0.012*\"corp\"\n",
      "Topic 9: 0.064*\"v\" + 0.018*\"iran\" + 0.016*\"avg\" + 0.015*\"unit\" + 0.014*\"shr\" + 0.014*\"company\" + 0.011*\"food\" + 0.011*\"mths\" + 0.011*\"share\" + 0.010*\"rev\"\n",
      "Topic 10: 0.104*\"v\" + 0.079*\"loss\" + 0.065*\"profit\" + 0.022*\"shr\" + 0.022*\"mths\" + 0.019*\"year\" + 0.019*\"rev\" + 0.014*\"qtr\" + 0.013*\"note\" + 0.012*\"quarter\"\n",
      "Topic 11: 0.047*\"pct\" + 0.032*\"year\" + 0.021*\"sale\" + 0.019*\"company\" + 0.013*\"export\" + 0.012*\"v\" + 0.009*\"market\" + 0.009*\"week\" + 0.009*\"tonne\" + 0.008*\"price\"\n",
      "Topic 12: 0.039*\"oil\" + 0.027*\"price\" + 0.021*\"pct\" + 0.015*\"barrel\" + 0.014*\"company\" + 0.013*\"year\" + 0.012*\"trade\" + 0.010*\"stock\" + 0.010*\"market\" + 0.009*\"export\"\n",
      "Topic 13: 0.058*\"share\" + 0.027*\"group\" + 0.023*\"pct\" + 0.022*\"company\" + 0.022*\"stock\" + 0.014*\"merger\" + 0.014*\"shareholder\" + 0.013*\"corp\" + 0.012*\"agreement\" + 0.012*\"offer\"\n",
      "\n",
      "\n",
      "Modello con 17 topic: \n",
      "\n",
      "Topic 0: 0.034*\"attack\" + 0.034*\"gulf\" + 0.018*\"agreement\" + 0.016*\"war\" + 0.016*\"state\" + 0.013*\"iran\" + 0.012*\"force\" + 0.012*\"market\" + 0.011*\"tanker\" + 0.010*\"missile\"\n",
      "Topic 1: 0.038*\"oil\" + 0.014*\"market\" + 0.014*\"loss\" + 0.013*\"bpd\" + 0.013*\"field\" + 0.013*\"rate\" + 0.013*\"dollar\" + 0.012*\"bank\" + 0.012*\"price\" + 0.011*\"year\"\n",
      "Topic 2: 0.022*\"tonne\" + 0.021*\"stock\" + 0.017*\"export\" + 0.016*\"year\" + 0.014*\"cocoa\" + 0.013*\"corn\" + 0.013*\"price\" + 0.012*\"department\" + 0.012*\"poehl\" + 0.011*\"cotton\"\n",
      "Topic 3: 0.090*\"v\" + 0.060*\"share\" + 0.032*\"loss\" + 0.029*\"shr\" + 0.028*\"qtr\" + 0.027*\"corp\" + 0.024*\"sale\" + 0.023*\"rev\" + 0.020*\"mths\" + 0.018*\"inc\"\n",
      "Topic 4: 0.121*\"v\" + 0.043*\"rev\" + 0.030*\"shr\" + 0.029*\"tonne\" + 0.023*\"year\" + 0.016*\"mths\" + 0.014*\"avg\" + 0.013*\"production\" + 0.013*\"stock\" + 0.013*\"output\"\n",
      "Topic 5: 0.061*\"pct\" + 0.031*\"year\" + 0.024*\"price\" + 0.016*\"company\" + 0.014*\"rate\" + 0.012*\"government\" + 0.010*\"bank\" + 0.010*\"inflation\" + 0.010*\"market\" + 0.010*\"dollar\"\n",
      "Topic 6: 0.029*\"tonne\" + 0.017*\"month\" + 0.017*\"v\" + 0.016*\"trade\" + 0.015*\"bank\" + 0.015*\"pct\" + 0.012*\"surplus\" + 0.011*\"year\" + 0.011*\"farm\" + 0.011*\"import\"\n",
      "Topic 7: 0.047*\"oil\" + 0.034*\"price\" + 0.025*\"barrel\" + 0.016*\"trade\" + 0.013*\"year\" + 0.013*\"crude\" + 0.010*\"quota\" + 0.010*\"production\" + 0.010*\"source\" + 0.010*\"company\"\n",
      "Topic 8: 0.018*\"v\" + 0.017*\"year\" + 0.014*\"gold\" + 0.011*\"beet\" + 0.011*\"loss\" + 0.011*\"talk\" + 0.011*\"profit\" + 0.011*\"rain\" + 0.010*\"exploration\" + 0.010*\"crop\"\n",
      "Topic 9: 0.040*\"year\" + 0.025*\"pct\" + 0.016*\"share\" + 0.012*\"tonne\" + 0.012*\"export\" + 0.011*\"company\" + 0.010*\"profit\" + 0.009*\"oil\" + 0.009*\"loss\" + 0.009*\"pipeline\"\n",
      "Topic 10: 0.034*\"company\" + 0.033*\"unit\" + 0.028*\"inc\" + 0.021*\"sale\" + 0.021*\"pct\" + 0.020*\"group\" + 0.019*\"co\" + 0.015*\"acquisition\" + 0.014*\"asset\" + 0.013*\"term\"\n",
      "Topic 11: 0.018*\"market\" + 0.016*\"rubber\" + 0.015*\"trade\" + 0.013*\"official\" + 0.011*\"price\" + 0.011*\"year\" + 0.010*\"tonne\" + 0.010*\"japan\" + 0.010*\"plant\" + 0.009*\"wheat\"\n",
      "Topic 12: 0.041*\"rate\" + 0.034*\"pct\" + 0.029*\"bank\" + 0.020*\"market\" + 0.020*\"interest\" + 0.018*\"platform\" + 0.014*\"iran\" + 0.012*\"louvre\" + 0.012*\"baker\" + 0.010*\"oil\"\n",
      "Topic 13: 0.254*\"v\" + 0.072*\"loss\" + 0.059*\"profit\" + 0.057*\"mths\" + 0.050*\"shr\" + 0.028*\"avg\" + 0.028*\"note\" + 0.022*\"sale\" + 0.018*\"rev\" + 0.017*\"qtr\"\n",
      "Topic 14: 0.031*\"pct\" + 0.023*\"share\" + 0.019*\"v\" + 0.017*\"record\" + 0.016*\"company\" + 0.015*\"sale\" + 0.015*\"inc\" + 0.013*\"stock\" + 0.013*\"analyst\" + 0.013*\"market\"\n",
      "Topic 15: 0.035*\"year\" + 0.030*\"export\" + 0.024*\"trade\" + 0.023*\"oil\" + 0.016*\"coffee\" + 0.016*\"pct\" + 0.014*\"industry\" + 0.011*\"v\" + 0.011*\"import\" + 0.010*\"figure\"\n",
      "Topic 16: 0.047*\"share\" + 0.043*\"company\" + 0.027*\"stock\" + 0.024*\"pct\" + 0.021*\"v\" + 0.020*\"group\" + 0.011*\"year\" + 0.011*\"inc\" + 0.011*\"shareholder\" + 0.010*\"corp\"\n",
      "\n",
      "\n"
     ]
    }
   ],
   "source": [
    "for i in range(0, len(num_topic_list)):\n",
    "    print(f\"Modello con {num_topic_list[i]} topic: \\n\")\n",
    "    for topic_id, topic in model_list[i].show_topics(formatted=True, num_topics=num_topic_list[i], num_words=10):\n",
    "        print(f\"Topic {topic_id}: {topic}\")\n",
    "    print('\\n')"
   ]
  }
 ],
 "metadata": {
  "kernelspec": {
   "display_name": "Python 3",
   "language": "python",
   "name": "python3"
  },
  "language_info": {
   "codemirror_mode": {
    "name": "ipython",
    "version": 3
   },
   "file_extension": ".py",
   "mimetype": "text/x-python",
   "name": "python",
   "nbconvert_exporter": "python",
   "pygments_lexer": "ipython3",
   "version": "3.11.0"
  },
  "orig_nbformat": 4
 },
 "nbformat": 4,
 "nbformat_minor": 2
}
