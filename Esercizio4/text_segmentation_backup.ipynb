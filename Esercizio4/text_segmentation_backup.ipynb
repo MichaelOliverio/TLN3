{
 "cells": [
  {
   "attachments": {},
   "cell_type": "markdown",
   "metadata": {},
   "source": [
    "# Laboratorio 4\n",
    "\n",
    "Si richiede un'implementazione di un sistema di text segmentation, prendendo ispirazione da TextTiling. In particolare, partendo da un corpus composto da almeno 3 sezioni su tematiche molto diverse (ad es. potete usare paragrafi da tre pagine di Wikipedia diverse), dovrete testare il vostro sistema in modo che riesca ad individuare le giuste linee di taglio (o quasi)."
   ]
  },
  {
   "cell_type": "code",
   "execution_count": 267,
   "metadata": {},
   "outputs": [],
   "source": [
    "import pandas as pd\n",
    "import string\n",
    "import nltk\n",
    "from nltk.stem import WordNetLemmatizer\n",
    "from nltk.corpus import stopwords\n",
    "import matplotlib.pyplot as plt\n"
   ]
  },
  {
   "cell_type": "code",
   "execution_count": 268,
   "metadata": {},
   "outputs": [],
   "source": [
    "stop_words = set(stopwords.words('english'))\n",
    "lemmatizer = WordNetLemmatizer()\n",
    "\n",
    "def clear_sentence(sentence):\n",
    "    tokens = nltk.word_tokenize(sentence)\n",
    "    tokens = [token for token in tokens if token not in string.punctuation] #tolgo la punteggiatura\n",
    "    tokens = [token.lower() for token in tokens] # sostituisco le maiuscole con le minuscole\n",
    "    tokens = [token for token in tokens if token not in stop_words] # rimuovo le stop words\n",
    "    tokens = [lemmatizer.lemmatize(token) for token in tokens] # lemmatizzo\n",
    "    \n",
    "    return tokens"
   ]
  },
  {
   "cell_type": "code",
   "execution_count": 269,
   "metadata": {},
   "outputs": [],
   "source": [
    "# calcolo per ogni frase il numero di parole\n",
    "\n",
    "def calcola_occorrenze_parole_frasi(sentences):\n",
    "    words_per_sentence = {}\n",
    "\n",
    "    for i, sentence in enumerate(sentences):\n",
    "        tokens = clear_sentence(sentence)\n",
    "        words_per_sentence[i] = {}\n",
    "        for token in tokens:\n",
    "            if token not in words_per_sentence[i]:\n",
    "                words_per_sentence[i][token] = 1\n",
    "            else:\n",
    "                words_per_sentence[i][token] += 1\n",
    "    \n",
    "    return words_per_sentence"
   ]
  },
  {
   "cell_type": "code",
   "execution_count": 270,
   "metadata": {},
   "outputs": [],
   "source": [
    "#dividi words_per_sentence in k parti uguali\n",
    "def divide_in_k_parts(words_per_sentence, k=3):\n",
    "    parts = {}\n",
    "    num_sentences = len(words_per_sentence)\n",
    "    sentence_per_part = num_sentences // k\n",
    "    j = 0\n",
    "    num_parte = 0\n",
    "    parts[num_parte] = {}\n",
    "\n",
    "    for i, sentence in enumerate(words_per_sentence):\n",
    "        if j < sentence_per_part or num_parte == k-1:\n",
    "            parts[num_parte][i] = words_per_sentence[sentence]\n",
    "            j += 1\n",
    "        else:\n",
    "            j = 0\n",
    "            num_parte += 1\n",
    "            if num_parte not in parts:\n",
    "                parts[num_parte] = {}\n",
    "            parts[num_parte][i] = words_per_sentence[sentence]\n",
    "            j += 1\n",
    "    \n",
    "    return parts"
   ]
  },
  {
   "cell_type": "code",
   "execution_count": 271,
   "metadata": {},
   "outputs": [],
   "source": [
    "#per ogni parte calcolo l'overlap lessicale nelle frasi a due a due\n",
    "def compute_cohesion(parts):\n",
    "    print('\\n')\n",
    "    print('COMPUTE COHESION')\n",
    "    words_count = []\n",
    "    j = 0\n",
    "\n",
    "    for index, part in enumerate(parts):\n",
    "        words_count_per_block = {}\n",
    "        i = list(parts[index].keys())[0]\n",
    "\n",
    "        for sentence in parts[index]:\n",
    "            if i+1 in parts[index]:\n",
    "                words_count_per_block[j] = 0\n",
    "\n",
    "                for word in parts[index][i]:\n",
    "                    if word in parts[index][i+1]:\n",
    "                        words_count_per_block[j] += parts[index][i][word] + parts[index][i+1][word]\n",
    "\n",
    "                j += 1\n",
    "                i += 1\n",
    "        words_count.append(words_count_per_block)\n",
    "\n",
    "    print(words_count)\n",
    "\n",
    "    #plot words_count\n",
    "    #for index, words_count_per_block in enumerate(words_count):\n",
    "    #    plt.plot(words_count_per_block.keys(), words_count_per_block.values(), label=f'parte {index+1}')\n",
    "\n",
    "    #plt.legend()\n",
    "    #plt.show()\n",
    "\n",
    "    return words_count"
   ]
  },
  {
   "cell_type": "code",
   "execution_count": 272,
   "metadata": {},
   "outputs": [],
   "source": [
    "def fix_break_points(parts, words_count):\n",
    "    new_parts = parts.copy()\n",
    "\n",
    "    for i, counts in enumerate(words_count):\n",
    "        min_value = min(counts.values())\n",
    "        min_value_position = [k for k, v in counts.items() if v == min_value][0]\n",
    "\n",
    "        keys_to_update = []\n",
    "\n",
    "        for j, part in enumerate(parts[i]):\n",
    "            if j > min_value_position:\n",
    "                keys_to_update.append(j)\n",
    "\n",
    "        for key in keys_to_update:\n",
    "            new_parts[i+1][key] = new_parts[i][key]\n",
    "            del new_parts[i][key]\n",
    "    \n",
    "    return new_parts\n",
    "\n"
   ]
  },
  {
   "cell_type": "code",
   "execution_count": 273,
   "metadata": {},
   "outputs": [],
   "source": [
    "def sum_word_count(words_count):\n",
    "    for count in words_count:\n",
    "        print(sum(count.values()))"
   ]
  },
  {
   "attachments": {},
   "cell_type": "markdown",
   "metadata": {},
   "source": [
    "### MAIN"
   ]
  },
  {
   "cell_type": "code",
   "execution_count": 276,
   "metadata": {},
   "outputs": [
    {
     "name": "stdout",
     "output_type": "stream",
     "text": [
      "\n",
      "\n",
      "COMPUTE COHESION\n",
      "[{0: 3, 1: 2, 2: 8, 3: 2, 4: 0, 5: 0}, {6: 2, 7: 4, 8: 0, 9: 8, 10: 3, 11: 0}, {12: 4, 13: 2, 14: 0, 15: 2, 16: 4, 17: 4}]\n",
      "15\n",
      "17\n",
      "16\n",
      "\n",
      "\n",
      "COMPUTE COHESION\n",
      "[{0: 3, 1: 2, 2: 8, 3: 2}, {4: 2, 5: 4, 6: 0, 7: 8, 8: 3, 9: 0}, {10: 4, 11: 2, 12: 0, 13: 2, 14: 4, 15: 4}]\n",
      "15\n",
      "17\n",
      "16\n",
      "\n",
      "\n",
      "COMPUTE COHESION\n",
      "[{0: 3}, {1: 0}, {2: 4, 3: 2, 4: 0, 5: 2, 6: 4, 7: 4}]\n",
      "3\n",
      "0\n",
      "16\n"
     ]
    },
    {
     "ename": "KeyError",
     "evalue": "7",
     "output_type": "error",
     "traceback": [
      "\u001b[1;31m---------------------------------------------------------------------------\u001b[0m",
      "\u001b[1;31mKeyError\u001b[0m                                  Traceback (most recent call last)",
      "Cell \u001b[1;32mIn[276], line 9\u001b[0m\n\u001b[0;32m      7\u001b[0m words_count \u001b[39m=\u001b[39m compute_cohesion(parts)\n\u001b[0;32m      8\u001b[0m sum_word_count(words_count)\n\u001b[1;32m----> 9\u001b[0m parts \u001b[39m=\u001b[39m fix_break_points(parts, words_count)\n",
      "Cell \u001b[1;32mIn[272], line 16\u001b[0m, in \u001b[0;36mfix_break_points\u001b[1;34m(parts, words_count)\u001b[0m\n\u001b[0;32m     13\u001b[0m         keys_to_update\u001b[39m.\u001b[39mappend(j)\n\u001b[0;32m     15\u001b[0m \u001b[39mfor\u001b[39;00m key \u001b[39min\u001b[39;00m keys_to_update:\n\u001b[1;32m---> 16\u001b[0m     new_parts[i\u001b[39m+\u001b[39m\u001b[39m1\u001b[39m][key] \u001b[39m=\u001b[39m new_parts[i][key]\n\u001b[0;32m     17\u001b[0m     \u001b[39mdel\u001b[39;00m new_parts[i][key]\n\u001b[0;32m     19\u001b[0m \u001b[39m#print(new_parts[i])\u001b[39;00m\n",
      "\u001b[1;31mKeyError\u001b[0m: 7"
     ]
    }
   ],
   "source": [
    "sentences = pd.read_csv('corpus.csv')['sentence']\n",
    "\n",
    "words_per_sentence = calcola_occorrenze_parole_frasi(sentences)\n",
    "parts = divide_in_k_parts(words_per_sentence, k=3)\n",
    "\n",
    "for i in range(5):\n",
    "    words_count = compute_cohesion(parts)\n",
    "    sum_word_count(words_count)\n",
    "    parts = fix_break_points(parts, words_count)"
   ]
  },
  {
   "cell_type": "code",
   "execution_count": null,
   "metadata": {},
   "outputs": [
    {
     "name": "stdout",
     "output_type": "stream",
     "text": [
      "\n",
      "\n",
      "COMPUTE COHESION\n",
      "[{0: 3, 1: 2, 2: 8, 3: 2}, {4: 2, 5: 4, 6: 0, 7: 8, 8: 3, 9: 0}, {10: 4, 11: 2, 12: 0, 13: 2, 14: 4, 15: 4}]\n"
     ]
    },
    {
     "data": {
      "image/png": "[encoded data removed]",
      "text/plain": [
       "<Figure size 640x480 with 1 Axes>"
      ]
     },
     "metadata": {},
     "output_type": "display_data"
    },
    {
     "name": "stdout",
     "output_type": "stream",
     "text": [
      "15\n",
      "17\n",
      "16\n"
     ]
    }
   ],
   "source": [
    "words_count = compute_cohesion(new_parts)\n",
    "\n",
    "for count in words_count:\n",
    "    print(sum(count.values()))"
   ]
  }
 ],
 "metadata": {
  "kernelspec": {
   "display_name": "Python 3",
   "language": "python",
   "name": "python3"
  },
  "language_info": {
   "codemirror_mode": {
    "name": "ipython",
    "version": 3
   },
   "file_extension": ".py",
   "mimetype": "text/x-python",
   "name": "python",
   "nbconvert_exporter": "python",
   "pygments_lexer": "ipython3",
   "version": "3.11.0"
  },
  "orig_nbformat": 4
 },
 "nbformat": 4,
 "nbformat_minor": 2
}
