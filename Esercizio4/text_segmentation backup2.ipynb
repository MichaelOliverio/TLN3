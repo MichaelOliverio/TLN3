{
 "cells": [
  {
   "attachments": {},
   "cell_type": "markdown",
   "metadata": {},
   "source": [
    "# Laboratorio 4\n",
    "\n",
    "Si richiede un'implementazione di un sistema di text segmentation, prendendo ispirazione da TextTiling. In particolare, partendo da un corpus composto da almeno 3 sezioni su tematiche molto diverse (ad es. potete usare paragrafi da tre pagine di Wikipedia diverse), dovrete testare il vostro sistema in modo che riesca ad individuare le giuste linee di taglio (o quasi)."
   ]
  },
  {
   "cell_type": "code",
   "execution_count": 422,
   "metadata": {},
   "outputs": [],
   "source": [
    "import pandas as pd\n",
    "import string\n",
    "import nltk\n",
    "from nltk.stem import WordNetLemmatizer\n",
    "from nltk.corpus import stopwords\n",
    "import matplotlib.pyplot as plt\n"
   ]
  },
  {
   "cell_type": "code",
   "execution_count": 423,
   "metadata": {},
   "outputs": [],
   "source": [
    "stop_words = set(stopwords.words('english'))\n",
    "lemmatizer = WordNetLemmatizer()\n",
    "\n",
    "def clear_sentence(sentence):\n",
    "    tokens = nltk.word_tokenize(sentence)\n",
    "    tokens = [token for token in tokens if token not in string.punctuation] #tolgo la punteggiatura\n",
    "    tokens = [token.lower() for token in tokens] # sostituisco le maiuscole con le minuscole\n",
    "    tokens = [token for token in tokens if token not in stop_words] # rimuovo le stop words\n",
    "    tokens = [lemmatizer.lemmatize(token) for token in tokens] # lemmatizzo\n",
    "    \n",
    "    return tokens"
   ]
  },
  {
   "cell_type": "code",
   "execution_count": 424,
   "metadata": {},
   "outputs": [],
   "source": [
    "# calcolo per ogni frase il numero di parole\n",
    "\n",
    "def calcola_occorrenze_parole_frasi(sentences):\n",
    "    words_per_sentence = {}\n",
    "\n",
    "    for i, sentence in enumerate(sentences):\n",
    "        tokens = clear_sentence(sentence)\n",
    "        words_per_sentence[i] = {}\n",
    "        for token in tokens:\n",
    "            if token not in words_per_sentence[i]:\n",
    "                words_per_sentence[i][token] = 1\n",
    "            else:\n",
    "                words_per_sentence[i][token] += 1\n",
    "    \n",
    "    return words_per_sentence"
   ]
  },
  {
   "cell_type": "code",
   "execution_count": 425,
   "metadata": {},
   "outputs": [],
   "source": [
    "#dividi words_per_sentence in k parti uguali\n",
    "def divide_in_k_parts(words_per_sentence, k=3):\n",
    "    parts = {}\n",
    "    num_sentences = len(words_per_sentence)\n",
    "    sentence_per_part = num_sentences // k\n",
    "    j = 0\n",
    "    num_parte = 0\n",
    "    parts[num_parte] = {}\n",
    "\n",
    "    for i, sentence in enumerate(words_per_sentence):\n",
    "        if j < sentence_per_part or num_parte == k-1:\n",
    "            parts[num_parte][i] = words_per_sentence[sentence]\n",
    "            j += 1\n",
    "        else:\n",
    "            j = 0\n",
    "            num_parte += 1\n",
    "            if num_parte not in parts:\n",
    "                parts[num_parte] = {}\n",
    "            parts[num_parte][i] = words_per_sentence[sentence]\n",
    "            j += 1\n",
    "    \n",
    "    return parts"
   ]
  },
  {
   "cell_type": "code",
   "execution_count": 426,
   "metadata": {},
   "outputs": [],
   "source": [
    "#per ogni parte calcolo l'overlap lessicale nelle frasi a due a due\n",
    "def get_cohesion_between_two_sentences_old(words_per_sentence):\n",
    "    print('\\n')\n",
    "    print('COMPUTE COHESION')\n",
    "    words_count = {}\n",
    "\n",
    "    i = 0\n",
    "    for j in words_per_sentence:\n",
    "        if j+1 in words_per_sentence:\n",
    "            words_count[j] = 0\n",
    "\n",
    "            for word in words_per_sentence[j]:\n",
    "                if word in words_per_sentence[j+1]:\n",
    "                    words_count[j] +=words_per_sentence[j][word] + words_per_sentence[j][word]\n",
    "\n",
    "    print(words_count)\n",
    "\n",
    "    plt.plot(words_count.keys(), words_count.values())\n",
    "    plt.show()\n",
    "\n",
    "    return words_count\n",
    "\n",
    "\n",
    "#per ogni parte calcolo l'overlap lessicale nelle frasi a due a due\n",
    "def get_cohesion_between_two_sentences(parts):\n",
    "    print('\\n')\n",
    "    print('COMPUTE COHESION')\n",
    "    words_count = []\n",
    "    j = 0\n",
    "\n",
    "    for index, part in enumerate(parts):\n",
    "        words_count_per_block = {}\n",
    "        i = list(parts[index].keys())[0]\n",
    "\n",
    "        for sentence in parts[index]:\n",
    "            if i+1 in parts[index]:\n",
    "                words_count_per_block[j] = 0\n",
    "\n",
    "                for word in parts[index][i]:\n",
    "                    if word in parts[index][i+1]:\n",
    "                        words_count_per_block[j] += parts[index][i][word] + parts[index][i+1][word]\n",
    "\n",
    "                j += 1\n",
    "                i += 1\n",
    "        words_count.append(words_count_per_block)\n",
    "\n",
    "    print(words_count)\n",
    "\n",
    "    #plot words_count\n",
    "    #for index, words_count_per_block in enumerate(words_count):\n",
    "    #    plt.plot(words_count_per_block.keys(), words_count_per_block.values(), label=f'parte {index+1}')\n",
    "\n",
    "    #plt.legend()\n",
    "    #plt.show()\n",
    "\n",
    "    return words_count"
   ]
  },
  {
   "cell_type": "code",
   "execution_count": 427,
   "metadata": {},
   "outputs": [],
   "source": [
    "def get_cohesion_in_cluster(words_sentence):\n",
    "    return sum(words_sentence.values())"
   ]
  },
  {
   "cell_type": "code",
   "execution_count": 428,
   "metadata": {},
   "outputs": [],
   "source": [
    "def recalculate_break_points(words_count, break_points):\n",
    "    print('\\n')\n",
    "    print('RECALCULATE BREAK POINTS')\n",
    "\n",
    "    start_sentences = {k: words_count[k] for k in list(words_count)[:break_points[1]]}\n",
    "    medium_sentences = {k: words_count[k] for k in list(words_count)[break_points[1]:break_points[2]]}\n",
    "    end_sentences = {k: words_count[k] for k in list(words_count)[break_points[2]:]}\n",
    "\n",
    "    start_min_value_positions = [k for k, v in start_sentences.items() if v == min(start_sentences.values())]\n",
    "    medium_min_value_positions = [k for k, v in medium_sentences.items() if v == min(medium_sentences.values())]\n",
    "    end_min_value_positions = [k for k, v in end_sentences.items() if v == min(end_sentences.values())]\n",
    "\n",
    "    #1\n",
    "    start_pos = start_min_value_positions[len(start_min_value_positions)-1]\n",
    "    medium_pos = medium_min_value_positions[0]\n",
    "\n",
    "    if (break_points[1] - start_pos) > (medium_pos - break_points[1]):\n",
    "        break_points[1] = medium_pos\n",
    "    else:\n",
    "        break_points[1] = start_pos\n",
    "\n",
    "    print('#1',start_pos, medium_pos)\n",
    "\n",
    "    #2\n",
    "    medium_pos = medium_min_value_positions[len(medium_min_value_positions)-1]\n",
    "    end_pos = end_min_value_positions[0]\n",
    "\n",
    "    if (break_points[2] - medium_pos) > (end_pos - break_points[2]):\n",
    "        break_points[2] = end_pos\n",
    "    else:\n",
    "        break_points[2] = medium_pos\n",
    "\n",
    "    print('#2',start_pos, medium_pos)\n",
    "    print(break_points)\n",
    "\n",
    "    print(start_min_value_positions, medium_min_value_positions, end_min_value_positions)\n",
    "    print('\\n')\n",
    "\n",
    "    return break_points\n",
    "    \n"
   ]
  },
  {
   "cell_type": "code",
   "execution_count": 429,
   "metadata": {},
   "outputs": [],
   "source": [
    "def sum_word_count(words_count):\n",
    "    for count in words_count:\n",
    "        print(sum(count.values()))"
   ]
  },
  {
   "attachments": {},
   "cell_type": "markdown",
   "metadata": {},
   "source": [
    "### MAIN"
   ]
  },
  {
   "cell_type": "code",
   "execution_count": 430,
   "metadata": {},
   "outputs": [
    {
     "name": "stdout",
     "output_type": "stream",
     "text": [
      "\n",
      "\n",
      "COMPUTE COHESION\n",
      "{0: 4, 1: 2, 2: 8, 3: 2, 4: 0, 5: 0, 6: 0, 7: 2, 8: 4, 9: 0, 10: 12, 11: 2, 12: 0, 13: 0, 14: 4, 15: 2, 16: 0, 17: 2, 18: 4, 19: 4}\n"
     ]
    },
    {
     "data": {
      "image/png": "[encoded data removed]",
      "text/plain": [
       "<Figure size 640x480 with 1 Axes>"
      ]
     },
     "metadata": {},
     "output_type": "display_data"
    },
    {
     "name": "stdout",
     "output_type": "stream",
     "text": [
      "{0: 4, 1: 2, 2: 8, 3: 2, 4: 0, 5: 0, 6: 0} 16\n",
      "{7: 2, 8: 4, 9: 0, 10: 12, 11: 2, 12: 0, 13: 0} 20\n",
      "{14: 4, 15: 2, 16: 0, 17: 2, 18: 4, 19: 4} 16\n",
      "\n",
      "\n",
      "RECALCULATE BREAK POINTS\n",
      "#1 6 9\n",
      "#2 6 13\n",
      "[0, 6, 13]\n",
      "[4, 5, 6] [9, 12, 13] [16]\n",
      "\n",
      "\n",
      "\n",
      "\n",
      "RECALCULATE BREAK POINTS\n",
      "#1 5 6\n",
      "#2 5 12\n",
      "[0, 6, 13]\n",
      "[4, 5] [6, 9, 12] [13, 16]\n",
      "\n",
      "\n"
     ]
    }
   ],
   "source": [
    "sentences = pd.read_csv('corpus.csv')['sentence']\n",
    "words_per_sentence = calcola_occorrenze_parole_frasi(sentences)\n",
    "words_count = get_cohesion_between_two_sentences(words_per_sentence)\n",
    "\n",
    "break_points = [0,7,14]\n",
    "\n",
    "start_sentences = {k: words_count[k] for k in list(words_count)[:break_points[1]]}\n",
    "medium_sentences = {k: words_count[k] for k in list(words_count)[break_points[1]:break_points[2]]}\n",
    "end_sentences = {k: words_count[k] for k in list(words_count)[break_points[2]:]}\n",
    "\n",
    "print(start_sentences, get_cohesion_in_cluster(start_sentences))\n",
    "print(medium_sentences, get_cohesion_in_cluster(medium_sentences))\n",
    "print(end_sentences, get_cohesion_in_cluster(end_sentences))\n",
    "\n",
    "break_points = recalculate_break_points(words_count, break_points)\n",
    "\n",
    "break_points = recalculate_break_points(words_count, break_points)\n",
    "\n"
   ]
  }
 ],
 "metadata": {
  "kernelspec": {
   "display_name": "Python 3",
   "language": "python",
   "name": "python3"
  },
  "language_info": {
   "codemirror_mode": {
    "name": "ipython",
    "version": 3
   },
   "file_extension": ".py",
   "mimetype": "text/x-python",
   "name": "python",
   "nbconvert_exporter": "python",
   "pygments_lexer": "ipython3",
   "version": "3.11.0"
  },
  "orig_nbformat": 4
 },
 "nbformat": 4,
 "nbformat_minor": 2
}
